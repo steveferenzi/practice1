{
 "cells": [
  {
   "cell_type": "markdown",
   "id": "c67e61a9",
   "metadata": {},
   "source": [
    "# GitHub and Numpy\n",
    "### Understanding Uncertainty"
   ]
  },
  {
   "cell_type": "markdown",
   "id": "64e7261b",
   "metadata": {},
   "source": [
    "# 1. GitHub"
   ]
  },
  {
   "cell_type": "markdown",
   "id": "f5f41a06",
   "metadata": {},
   "source": [
    "## Git\n",
    "- Git is version control software, like Dropbox\n",
    "- Git is free and open source\n",
    "- Git can be a hassle to use\n",
    "- Microsoft acquired an online implementation of Git, called GitHub, which is used by people to develop software"
   ]
  },
  {
   "cell_type": "markdown",
   "id": "a85a8428",
   "metadata": {},
   "source": [
    "## Git Words\n",
    "- A directory that is tracked by Git is called a **repository**, or repo\n",
    "- Git tracks changes in the contents of the repo over time\n",
    "- You have to \"save\" manually; this is called a **commit**, we will talk about it in a second\n",
    "- The first rule of GitHub is that: The real version of the project is on GitHub, not on your computer"
   ]
  },
  {
   "cell_type": "markdown",
   "id": "70b39816",
   "metadata": {},
   "source": [
    "## Creating a Repo\n",
    "1. Go to your GitHub page, click on the Repositories link\n",
    "2. Click NEW\n",
    "3. For the Repo name, write 'practice', and the description, write 'For practice'\n",
    "4. Always add a README, or cloning will sometimes have errors\n",
    "5. Create the Repo."
   ]
  },
  {
   "cell_type": "markdown",
   "id": "d8713ec7",
   "metadata": {},
   "source": [
    "!['Create a repo'](./src/new_repo.png)"
   ]
  },
  {
   "cell_type": "markdown",
   "id": "167a6088",
   "metadata": {},
   "source": [
    "## Clone Your Repo\n",
    "- At the command line, navigate to the folder where you want to work, and type `git clone https://github.com/<your_name>/practice`\n",
    "- This will create a local copy of the repo you can work on\n",
    "\n",
    "!['Create a repo'](./src/cloning.png)"
   ]
  },
  {
   "cell_type": "markdown",
   "id": "600c5f5a",
   "metadata": {},
   "source": [
    "## Connecting VS Code to GitHub\n",
    "1. Either:\n",
    "    1. At the command line, type `code practice` to open the folder\n",
    "    2. Use the File -> Open Folder, and select `practice`\n",
    "2. For VS Code and Git to sync correctly, you need to open the folder that is the Repo, not merely access its files after cloning it. Use the little person button to \"Turn on Cloud Changes\" and sign into GitHub, to handle security issues:\n",
    "\n",
    "!['Sign in'](./src/person.png)\n",
    "\n",
    "3. You have to add your user details at least once, to sign your commits:\n",
    "\n",
    "!['Sign in'](./src/user_details.png)"
   ]
  },
  {
   "cell_type": "markdown",
   "id": "7adbb564",
   "metadata": {},
   "source": [
    "## Run the Get Data Code\n",
    "- Use the `get_data.py` function to download and unzip the data from Zenodo"
   ]
  },
  {
   "cell_type": "code",
   "execution_count": 1,
   "id": "06c79e15",
   "metadata": {},
   "outputs": [
    {
     "name": "stdout",
     "output_type": "stream",
     "text": [
      "Downloading course data...\n",
      "Download complete\n"
     ]
    },
    {
     "data": {
      "text/plain": [
       "'data'"
      ]
     },
     "execution_count": 1,
     "metadata": {},
     "output_type": "execute_result"
    }
   ],
   "source": [
    "def download_data(force=False):\n",
    "    \"\"\"Download and extract course data from Zenodo.\"\"\"\n",
    "    import urllib.request\n",
    "    import zipfile\n",
    "    import os\n",
    "    \n",
    "    zip_path = 'data.zip'\n",
    "    data_dir = 'data'\n",
    "    \n",
    "    if not os.path.exists(zip_path) or force:\n",
    "        print(\"Downloading course data...\")\n",
    "        urllib.request.urlretrieve(\n",
    "            'https://zenodo.org/records/16954427/files/data.zip?download=1',\n",
    "            zip_path\n",
    "        )\n",
    "        print(\"Download complete\")\n",
    "    \n",
    "    if not os.path.exists(data_dir) or force:\n",
    "        print(\"Extracting data files...\")\n",
    "        with zipfile.ZipFile(zip_path, 'r') as zip_ref:\n",
    "            zip_ref.extractall(data_dir)\n",
    "        print(\"Data extracted\")\n",
    "    \n",
    "    return data_dir\n",
    "\n",
    "download_data()"
   ]
  },
  {
   "cell_type": "markdown",
   "id": "3d3312e9",
   "metadata": {},
   "source": [
    "## Add a .gitignore\n",
    "- A lot of files -- virtual environments, data directories, ipynb checkpoints -- do not belong in the repo, and will not be tolerated by GitHub\n",
    "- In the file panel on the left, click the file-plus, and add a file called `.gitignore`\n",
    "- In the `.gitignore` file, type `data.zip` and `data/*` and save it\n",
    "- You can add the contents of directories like that, as well as specific files, to keep them from being tracked"
   ]
  },
  {
   "cell_type": "markdown",
   "id": "29d9a218",
   "metadata": {},
   "source": [
    "## Git Commands\n",
    "- We have some git commands. They are unavoidable:\n",
    "\n",
    "| Command | Does...?|\n",
    "| --------------| ---------------|\n",
    "| git ls-files | List the files Git is tracking |\n",
    "| git add `file` | Tells git to start tracking `file` (\"Stages\" it)|\n",
    "| git add . | Tells git to start tracking everything in the repo|\n",
    "| git rm --cached `file` | Tells git to stop tracking `file` without deleting it |\n",
    "| git commit -am 'Commit message' | Save a snapshot of the project |\n",
    "| git status | See the current branch of the project and changes to be committed| \n",
    "| git log | See the log of the repo with the history of changes |\n",
    "\n",
    "Because we're using GitHub, we have a very, very annoying problem: Files over 25MB or 100MB stop an update of the repo. These commands (and .gitignore) let you track what's actually being tracked. "
   ]
  },
  {
   "cell_type": "markdown",
   "id": "13c6e22f",
   "metadata": {
    "vscode": {
     "languageId": "plaintext"
    }
   },
   "source": [
    "## Making a Commit\n",
    "1. Add `.gitignore` and `get_data.py` to the files being tracked by Git (Stage it)\n",
    "2. Check the files that are currently tracked by Git\n",
    "3. Make sure you've saved all the files you've edited (ctrl+S)\n",
    "4. Click the Git panel, write a commit message, and make a commit\n",
    "\n",
    "!['Make a commit'](./src/git_commit.png)"
   ]
  },
  {
   "cell_type": "markdown",
   "id": "3f63090a",
   "metadata": {},
   "source": [
    "## Sync Changes \n",
    "- To **push** your changes back to GitHub, click the `commit` button and then `Sync Changes` \n",
    "- You should see your .gitignore appear now on GitHub in the repo\n",
    "!['Sync Changes'](./src/push.png)\n",
    "- Go to the repo and GitHub and verify your changes made it"
   ]
  },
  {
   "cell_type": "markdown",
   "id": "2711f9c0",
   "metadata": {},
   "source": [
    "## Working in Groups\n",
    "- To work in groups, you need a few commands to update your work\n",
    "\n",
    "| Command | Does...?|\n",
    "| --------------| ---------------|\n",
    "| git fetch | Update your repo from GitHub, prioritizing your files |\n",
    "| git pull | Fetch changes, merge them into your repo (possibly overwriting your work)|\n",
    "\n",
    "!['Retrieve Changes'](./src/fetch_pull.png)"
   ]
  },
  {
   "cell_type": "markdown",
   "id": "768823f2",
   "metadata": {},
   "source": [
    "## Group Practice #1\n",
    "- Group \"leader\", create a new repo with a README in it\n",
    "- Everyone in the group, clone the repo\n",
    "- First person on the left of the leader, add an exercise.txt file to it, including something (your CID, a phrase, whatever). Git add the file and push it back to the groups' repo. The group leader will get a Pull Request, and can then merge the changes into the repo (just click through the dialogs).\n",
    "- Second person on the left of the leader, git pull, add something to the exercise.txt file, and push it back.\n",
    "- Continue until everyone, including the group leader, has added something to exercise.txt"
   ]
  },
  {
   "cell_type": "markdown",
   "id": "d1cfffe5",
   "metadata": {},
   "source": [
    "## Group Practice #2\n",
    "- Everyone git pull to sync your repos\n",
    "- Everyone make a new file, git add it, git commit, and git push\n",
    "- Do any conflicts occur?"
   ]
  },
  {
   "cell_type": "markdown",
   "id": "2701a61d",
   "metadata": {},
   "source": [
    "## Group Practice #3\n",
    "- Everyone git pull to sync\n",
    "- Everyone coordinate on making edits to the same file, git commit, and git push\n",
    "- What happens?"
   ]
  },
  {
   "cell_type": "markdown",
   "id": "34aa2f6d",
   "metadata": {},
   "source": [
    "## Doomed Situations\n",
    "- OK, your merge conflict is a disaster. You just can't or don't want to sort this out.\n",
    "- Rename the doomed local folder to `repo_doomed`\n",
    "- Git clone a fresh local copy of `repo`, make your changes using code from `repo_doomed`, push back before anyone else does"
   ]
  }
 ],
 "metadata": {
  "kernelspec": {
   "display_name": "base",
   "language": "python",
   "name": "python3"
  },
  "language_info": {
   "codemirror_mode": {
    "name": "ipython",
    "version": 3
   },
   "file_extension": ".py",
   "mimetype": "text/x-python",
   "name": "python",
   "nbconvert_exporter": "python",
   "pygments_lexer": "ipython3",
   "version": "3.12.9"
  }
 },
 "nbformat": 4,
 "nbformat_minor": 5
}
